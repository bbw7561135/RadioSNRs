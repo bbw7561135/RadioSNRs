{
 "metadata": {
  "name": ""
 },
 "nbformat": 3,
 "nbformat_minor": 0,
 "worksheets": [
  {
   "cells": [
    {
     "cell_type": "code",
     "collapsed": false,
     "input": [
      "%pylab inline"
     ],
     "language": "python",
     "metadata": {},
     "outputs": [
      {
       "output_type": "stream",
       "stream": "stdout",
       "text": [
        "Populating the interactive namespace from numpy and matplotlib\n"
       ]
      }
     ],
     "prompt_number": 1
    },
    {
     "cell_type": "code",
     "collapsed": false,
     "input": [
      "mej = 1.0 #M_sun\n",
      "e51 = 1.0\n",
      "n0 = 1.0\n",
      "tch = 423*(e51**(-0.5))*(mej**(5.0/6.0))*(n0**(-1.0/3.0)) #years                                                                                              \n",
      "rch = 3.07*(mej**(1.0/3.0))*(n0**(-1.0/3.0)) #pcs                                                                                                             \n",
      "vch = 7090*(e51**0.5)*(mej**(-0.5))"
     ],
     "language": "python",
     "metadata": {},
     "outputs": [],
     "prompt_number": 12
    },
    {
     "cell_type": "code",
     "collapsed": false,
     "input": [
      "tstar_ed = np.linspace(0.1,0.732,1000)\n",
      "vstar_ed = 0.606*(tstar_ed**(-3.0/7.0))\n",
      "tstar_st = np.linspace(0.732,3,1000)\n",
      "vstar_st = 0.569*((1.42*tstar_st - 0.312)**(-3.0/5.0))\n",
      "plt.plot(tstar_ed,vstar_ed,'b-')\n",
      "plt.plot(tstar_st,vstar_st,'r-')\n",
      "plt.xlabel(r'$t^*$',fontsize=15)\n",
      "plt.ylabel(r'$v^*$',fontsize=15)\n",
      "plt.minorticks_on()\n",
      "plt.title('n=7 ejecta')\n",
      "plt.ylim(0,2.0)\n",
      "plt.show\n",
      "plt.show()\n",
      "\n"
     ],
     "language": "python",
     "metadata": {},
     "outputs": [
      {
       "metadata": {},
       "output_type": "display_data",
       "png": "[encoded data removed]",
       "text": [
        "<matplotlib.figure.Figure at 0x10b7a3310>"
       ]
      }
     ],
     "prompt_number": 20
    },
    {
     "cell_type": "code",
     "collapsed": false,
     "input": [],
     "language": "python",
     "metadata": {},
     "outputs": [],
     "prompt_number": 18
    },
    {
     "cell_type": "code",
     "collapsed": false,
     "input": [],
     "language": "python",
     "metadata": {},
     "outputs": []
    }
   ],
   "metadata": {}
  }
 ]
}
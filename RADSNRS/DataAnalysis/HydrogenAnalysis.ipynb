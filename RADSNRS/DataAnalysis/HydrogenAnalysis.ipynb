{
 "metadata": {
  "name": ""
 },
 "nbformat": 3,
 "nbformat_minor": 0,
 "worksheets": [
  {
   "cells": [
    {
     "cell_type": "code",
     "collapsed": false,
     "input": [
      "%pylab inline"
     ],
     "language": "python",
     "metadata": {},
     "outputs": [
      {
       "output_type": "stream",
       "stream": "stdout",
       "text": [
        "Populating the interactive namespace from numpy and matplotlib\n"
       ]
      }
     ],
     "prompt_number": 1
    },
    {
     "cell_type": "heading",
     "level": 2,
     "metadata": {},
     "source": [
      "Cumulative Histogram"
     ]
    },
    {
     "cell_type": "code",
     "collapsed": false,
     "input": [
      "model_hyd = np.loadtxt('paramtst_denshist.txt')\n",
      "example = model_hyd[3][np.nonzero(model_hyd[3])]\n",
      "path = '../Inputs/lmc_snrs_opaccopy.txt'\n",
      "lmc_hyd = np.loadtxt(path)\n",
      "plt.plot(lmc_hyd,np.ones(lmc_hyd.size)*2.0,'r|',ms=15)\n",
      "plt.plot(example,np.ones(example.size)*3.0,'b|',ms=15)\n",
      "#plt.hist(lmc_hyd,histtype='step',color='r')\n",
      "#plt.hist(example,histtype='step',color='b')\n",
      "plt.xscale('log')\n",
      "plt.ylim(0,5)\n",
      "plt.show()"
     ],
     "language": "python",
     "metadata": {},
     "outputs": [
      {
       "metadata": {},
       "output_type": "display_data",
       "png": "[encoded data removed]",
       "text": [
        "<matplotlib.figure.Figure at 0x10c3eed10>"
       ]
      }
     ],
     "prompt_number": 21
    },
    {
     "cell_type": "code",
     "collapsed": false,
     "input": [],
     "language": "python",
     "metadata": {},
     "outputs": []
    }
   ],
   "metadata": {}
  }
 ]
}
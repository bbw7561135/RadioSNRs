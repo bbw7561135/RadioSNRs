{
 "metadata": {
  "name": ""
 },
 "nbformat": 3,
 "nbformat_minor": 0,
 "worksheets": [
  {
   "cells": [
    {
     "cell_type": "code",
     "collapsed": false,
     "input": [
      "%pylab inline"
     ],
     "language": "python",
     "metadata": {},
     "outputs": [
      {
       "output_type": "stream",
       "stream": "stdout",
       "text": [
        "Populating the interactive namespace from numpy and matplotlib\n"
       ]
      }
     ],
     "prompt_number": 16
    },
    {
     "cell_type": "code",
     "collapsed": false,
     "input": [
      "from astropy.io import ascii"
     ],
     "language": "python",
     "metadata": {},
     "outputs": [],
     "prompt_number": 5
    },
    {
     "cell_type": "code",
     "collapsed": false,
     "input": [
      "data = ascii.read('sources.dat')\n",
      "print data"
     ],
     "language": "python",
     "metadata": {},
     "outputs": [
      {
       "output_type": "stream",
       "stream": "stdout",
       "text": [
        "obsid redshift  X    Y      object  \n",
        "----- -------- ---- ---- -----------\n",
        " 3102     0.32 4167 4085 Q1250+568-A\n",
        "  877     0.22 4378 3892   Source 82\n"
       ]
      }
     ],
     "prompt_number": 6
    },
    {
     "cell_type": "markdown",
     "metadata": {},
     "source": [
      "Usually astropy.io.ascii will read() the file based on available table formats. But if it can't, there are __things__ you could do"
     ]
    },
    {
     "cell_type": "code",
     "collapsed": false,
     "input": [
      "lines = ['objid & oscrid &xscrid',\n",
      "         '---------------- & ----------------- &------------',\n",
      "         ' 277955213 & S000.7044P00.7513 & XS04861B6_005',\n",
      "         ' 889974380 & S002.9051P14.7003 & XS03957B7_004']\n",
      "data = ascii.read(lines,data_start=2,delimiter='&')\n"
     ],
     "language": "python",
     "metadata": {},
     "outputs": [
      {
       "output_type": "stream",
       "stream": "stdout",
       "text": [
        "<Row 1 of table\n",
        " values=(889974380, 'S002.9051P14.7003', 'XS03957B7_004')\n",
        " dtype=[('objid', '<i8'), ('oscrid', 'S17'), ('xscrid', 'S13')]>\n"
       ]
      }
     ],
     "prompt_number": 13
    },
    {
     "cell_type": "markdown",
     "metadata": {},
     "source": [
      "More efficient to mention the format of data if known..."
     ]
    },
    {
     "cell_type": "code",
     "collapsed": false,
     "input": [
      "data2 = ascii.read(lines,format='fixed_width',delimiter='&')\n",
      "print data2"
     ],
     "language": "python",
     "metadata": {},
     "outputs": [
      {
       "output_type": "stream",
       "stream": "stdout",
       "text": [
        "objid   oscrid  xscrid\n",
        "------ -------- ------\n",
        "------ --------  & ---\n",
        " 27795 213 & S0 0.7044\n",
        " 88997 380 & S0 2.9051\n"
       ]
      }
     ],
     "prompt_number": 16
    },
    {
     "cell_type": "code",
     "collapsed": false,
     "input": [
      "#WRITING TABLES USING ASTROPY\n",
      "\n",
      "from astropy.table import Table\n",
      "x = np.array([1,2,3])\n",
      "y = x**2\n",
      "data = Table([x,y],names=['x','y'])\n",
      "ascii.write(data,'values.dat')\n"
     ],
     "language": "python",
     "metadata": {},
     "outputs": [],
     "prompt_number": 32
    },
    {
     "cell_type": "markdown",
     "metadata": {},
     "source": [
      "ASCII lets you write the table in an organized manner (with headings,\n",
      "formatting delimiters etc.) but also lets you read in the data in a\n",
      "dictionary format!"
     ]
    },
    {
     "cell_type": "code",
     "collapsed": false,
     "input": [
      "lala = ascii.read('values.dat')   #Basically an object\n",
      "lalala = np.loadtxt('values.dat',skiprows=1)   #Except for the\n",
      "#headings, can read the rest of the data\n",
      "x = lala['x']  "
     ],
     "language": "python",
     "metadata": {},
     "outputs": [
      {
       "metadata": {},
       "output_type": "pyout",
       "prompt_number": 57,
       "text": [
        "<Column name='x' unit=None format=None description=None>\n",
        "array([1, 2, 3])"
       ]
      }
     ],
     "prompt_number": 57
    },
    {
     "cell_type": "code",
     "collapsed": false,
     "input": [
      "#You can create latex tables out of data\n",
      "import sys\n",
      "ascii.write(data,sys.stdout,format='latex')"
     ],
     "language": "python",
     "metadata": {},
     "outputs": [
      {
       "output_type": "stream",
       "stream": "stdout",
       "text": [
        "\\begin{table}\n",
        "\\begin{tabular}{cc}\n",
        "x & y \\\\\n",
        "1 & 1 \\\\\n",
        "2 & 4 \\\\\n",
        "3 & 9 \\\\\n",
        "\\end{tabular}\n",
        "\\end{table}\n"
       ]
      }
     ],
     "prompt_number": 58
    },
    {
     "cell_type": "heading",
     "level": 3,
     "metadata": {},
     "source": [
      "Writing using Astropy"
     ]
    },
    {
     "cell_type": "markdown",
     "metadata": {},
     "source": [
      "Astropy.write() takes in either a __Table__ object or a __Structured Array__"
     ]
    },
    {
     "cell_type": "code",
     "collapsed": false,
     "input": [
      "from astropy.table import Table\n",
      "from astropy.io import ascii"
     ],
     "language": "python",
     "metadata": {},
     "outputs": [],
     "prompt_number": 1
    },
    {
     "cell_type": "code",
     "collapsed": false,
     "input": [
      "#Table object\n",
      "data = Table(([1.0e23,2.0e23,3.0e23],\n",
      "              [20,40,60]),\n",
      "             names=['luminosity','size'])\n",
      "ascii.write(data,'values.dat')"
     ],
     "language": "python",
     "metadata": {},
     "outputs": [],
     "prompt_number": 11
    },
    {
     "cell_type": "code",
     "collapsed": false,
     "input": [
      "#Structured object\n",
      "data = np.array([(1.0,2.0,'Hello'),(2,3,'World')],\n",
      "            dtype=('i4,f4,a10'))\n",
      "\n",
      "#In case you want to change the field names...\n",
      "data.dtype.names = ('number1','number2','word')\n",
      "data['number2']\n",
      "\n",
      "ascii.write(data,'values.dat')\n"
     ],
     "language": "python",
     "metadata": {},
     "outputs": [],
     "prompt_number": 40
    },
    {
     "cell_type": "code",
     "collapsed": false,
     "input": [
      "#Or as a list of lists...\n",
      "import sys\n",
      "x = [1,2,3]\n",
      "y = [4,5.1,6.7]\n",
      "z = ['what','when','why']\n",
      "data = [x,y,z]\n",
      "readdata = ascii.write(data,sys.stdout,names=['x','y','z'])\n",
      "#So this provides a header for each column. You can use them\n",
      "#when reading in the data"
     ],
     "language": "python",
     "metadata": {},
     "outputs": [
      {
       "output_type": "stream",
       "stream": "stdout",
       "text": [
        "x y z\n",
        "1 4.0 what\n",
        "2 5.1 when\n",
        "3 6.7 why\n",
        "None\n"
       ]
      }
     ],
     "prompt_number": 53
    },
    {
     "cell_type": "heading",
     "level": 3,
     "metadata": {},
     "source": [
      "    FIXED WIDTH GALLERY"
     ]
    },
    {
     "cell_type": "code",
     "collapsed": false,
     "input": [
      "ascii.read('values.dat',format='fixed_width')  #crappy"
     ],
     "language": "python",
     "metadata": {},
     "outputs": [
      {
       "html": [
        "<table id=\"table4501363984\"><thead><tr><th>number1 number2 word</th></tr></thead><tr><td>1 2.0 Hello</td></tr><tr><td>2 3.0 World</td></tr></table>"
       ],
       "metadata": {},
       "output_type": "pyout",
       "prompt_number": 56,
       "text": [
        "<Table rows=2 names=('number1 number2 word')>\n",
        "array([('1 2.0 Hello',), ('2 3.0 World',)], \n",
        "      dtype=[('number1 number2 word', 'S11')])"
       ]
      }
     ],
     "prompt_number": 56
    },
    {
     "cell_type": "code",
     "collapsed": false,
     "input": [
      "ascii.read('values.dat')  #No specification reads in the best way"
     ],
     "language": "python",
     "metadata": {},
     "outputs": [
      {
       "html": [
        "<table id=\"table4501549392\"><thead><tr><th>number1</th><th>number2</th><th>word</th></tr></thead><tr><td>1</td><td>2.0</td><td>Hello</td></tr><tr><td>2</td><td>3.0</td><td>World</td></tr></table>"
       ],
       "metadata": {},
       "output_type": "pyout",
       "prompt_number": 57,
       "text": [
        "<Table rows=2 names=('number1','number2','word')>\n",
        "array([(1, 2.0, 'Hello'), (2, 3.0, 'World')], \n",
        "      dtype=[('number1', '<i8'), ('number2', '<f8'), ('word', 'S5')])"
       ]
      }
     ],
     "prompt_number": 57
    },
    {
     "cell_type": "code",
     "collapsed": false,
     "input": [
      "ascii.read('values.dat',names=('num1','num2','wor'))"
     ],
     "language": "python",
     "metadata": {},
     "outputs": [
      {
       "html": [
        "<table id=\"table4501552336\"><thead><tr><th>num1</th><th>num2</th><th>wor</th></tr></thead><tr><td>1</td><td>2.0</td><td>Hello</td></tr><tr><td>2</td><td>3.0</td><td>World</td></tr></table>"
       ],
       "metadata": {},
       "output_type": "pyout",
       "prompt_number": 58,
       "text": [
        "<Table rows=2 names=('num1','num2','wor')>\n",
        "array([(1, 2.0, 'Hello'), (2, 3.0, 'World')], \n",
        "      dtype=[('num1', '<i8'), ('num2', '<f8'), ('wor', 'S5')])"
       ]
      }
     ],
     "prompt_number": 58
    },
    {
     "cell_type": "code",
     "collapsed": false,
     "input": [
      "table = \"\"\" \n",
      "|  John  | 555-1234 |192.168.1.10|\n",
      "|  Mary  | 555-2134 |192.168.1.12|\n",
      "|   Bob  | 555-4527 | 192.168.1.9|\n",
      "\"\"\"\n",
      "ascii.read(table,format='fixed_width',header_start=None,\n",
      "           data_start=0,names=('name','ph#','ip'))"
     ],
     "language": "python",
     "metadata": {},
     "outputs": [
      {
       "html": [
        "<table id=\"table4501233232\"><thead><tr><th>name</th><th>ph#</th><th>ip</th></tr></thead><tr><td>John</td><td>555-1234</td><td>192.168.1.10</td></tr><tr><td>Mary</td><td>555-2134</td><td>192.168.1.12</td></tr><tr><td>Bob</td><td>555-4527</td><td>192.168.1.9</td></tr></table>"
       ],
       "metadata": {},
       "output_type": "pyout",
       "prompt_number": 64,
       "text": [
        "<Table rows=3 names=('name','ph#','ip')>\n",
        "array([('John', '555-1234', '192.168.1.10'),\n",
        "       ('Mary', '555-2134', '192.168.1.12'),\n",
        "       ('Bob', '555-4527', '192.168.1.9')], \n",
        "      dtype=[('name', 'S4'), ('ph#', 'S8'), ('ip', 'S12')])"
       ]
      }
     ],
     "prompt_number": 64
    },
    {
     "cell_type": "markdown",
     "metadata": {},
     "source": [
      "For more examples, check out __fixed width__ gallery on Astropy\n",
      "website"
     ]
    },
    {
     "cell_type": "code",
     "collapsed": false,
     "input": [],
     "language": "python",
     "metadata": {},
     "outputs": []
    }
   ],
   "metadata": {}
  }
 ]
}
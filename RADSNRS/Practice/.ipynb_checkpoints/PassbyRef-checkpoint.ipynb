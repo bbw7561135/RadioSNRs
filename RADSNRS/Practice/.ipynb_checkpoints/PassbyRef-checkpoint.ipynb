{
 "metadata": {
  "name": ""
 },
 "nbformat": 3,
 "nbformat_minor": 0,
 "worksheets": [
  {
   "cells": [
    {
     "cell_type": "code",
     "collapsed": false,
     "input": [
      "%pylab inline"
     ],
     "language": "python",
     "metadata": {},
     "outputs": []
    },
    {
     "cell_type": "code",
     "collapsed": false,
     "input": [
      "def setvalue(arr):\n",
      "    arr[1]=9.0\n",
      "\n",
      "def setvaluevar(var):\n",
      "    var=7\n",
      "\n",
      "a = np.array([1,2,3])\n",
      "b = 5\n",
      "print a\n",
      "for i in range(5):\n",
      "    setvalue(a)\n",
      "    print a\n",
      "    setvaluevar(b)\n",
      "    print b\n",
      "    "
     ],
     "language": "python",
     "metadata": {},
     "outputs": [
      {
       "output_type": "stream",
       "stream": "stdout",
       "text": [
        "[1 2 3]\n",
        "[1 9 3]\n",
        "5\n",
        "[1 9 3]\n",
        "5\n",
        "[1 9 3]\n",
        "5\n",
        "[1 9 3]\n",
        "5\n",
        "[1 9 3]\n",
        "5\n"
       ]
      }
     ],
     "prompt_number": 16
    },
    {
     "cell_type": "markdown",
     "metadata": {},
     "source": [
      "When you pass an array to a function, any changes made in the function to that array gets reflected to the original array. The same as pass by reference. Not true for variables though"
     ]
    },
    {
     "cell_type": "code",
     "collapsed": false,
     "input": [],
     "language": "python",
     "metadata": {},
     "outputs": []
    }
   ],
   "metadata": {}
  }
 ]
}
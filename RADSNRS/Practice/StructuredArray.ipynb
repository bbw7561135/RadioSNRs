{
 "metadata": {
  "name": ""
 },
 "nbformat": 3,
 "nbformat_minor": 0,
 "worksheets": [
  {
   "cells": [
    {
     "cell_type": "code",
     "collapsed": false,
     "input": [
      "%pylab inline"
     ],
     "language": "python",
     "metadata": {},
     "outputs": [
      {
       "output_type": "stream",
       "stream": "stdout",
       "text": [
        "Populating the interactive namespace from numpy and matplotlib\n"
       ]
      }
     ],
     "prompt_number": 1
    },
    {
     "cell_type": "heading",
     "level": 2,
     "metadata": {},
     "source": [
      "Structured Arrays"
     ]
    },
    {
     "cell_type": "code",
     "collapsed": false,
     "input": [
      "x = np.zeros((2,),dtype=('i4,f4,a10'))\n",
      "#Creates a 1D structured array where each element is a 32bit\n",
      "#integer, 32 bit float and a string of length 10 or less.\n",
      "\n",
      "x[:] = [(1,2.,'Hello'),(2,3.,'World')]\n",
      "y = [(1,2.,'Hello'),(2,3.,'World')]\n",
      "print x\n",
      "print y\n",
      "print x.dtype\n",
      "#print y.dtype"
     ],
     "language": "python",
     "metadata": {},
     "outputs": [
      {
       "output_type": "stream",
       "stream": "stdout",
       "text": [
        "[(1, 2.0, 'Hello') (2, 3.0, 'World')]\n",
        "[(1, 2.0, 'Hello'), (2, 3.0, 'World')]\n",
        "[('f0', '<i4'), ('f1', '<f4'), ('f2', 'S10')]\n"
       ]
      }
     ],
     "prompt_number": 32
    },
    {
     "cell_type": "markdown",
     "metadata": {},
     "source": [
      "x[:] = is different from x =, as you can see from the output. (Remove the hashtag to see)."
     ]
    },
    {
     "cell_type": "code",
     "collapsed": false,
     "input": [
      "x[1]"
     ],
     "language": "python",
     "metadata": {},
     "outputs": [
      {
       "metadata": {},
       "output_type": "pyout",
       "prompt_number": 31,
       "text": [
        "(2, 3.0, 'World')"
       ]
      }
     ],
     "prompt_number": 31
    },
    {
     "cell_type": "code",
     "collapsed": false,
     "input": [
      "y = x['f1'] #You can use the field strings to access elements.\n",
      "\n",
      "y[:]=2*y\n",
      "print y\n",
      "print x\n",
      "\n",
      "#Just as lists, structured arrays do not make copies with \n",
      "# equal sign, it points to the same memory location. So \n",
      "# altering one, alters the value at the memory location. "
     ],
     "language": "python",
     "metadata": {},
     "outputs": [
      {
       "output_type": "stream",
       "stream": "stdout",
       "text": [
        "[  8.  12.]\n",
        "[(1, 8.0, 'Hello') (2, 12.0, 'World')]\n"
       ]
      }
     ],
     "prompt_number": 40
    },
    {
     "cell_type": "code",
     "collapsed": false,
     "input": [
      "x[1]=(-1,1.0,\"Master\")\n",
      "print x\n",
      "\n",
      "#Altering the fields also alters the list.\n",
      "print y"
     ],
     "language": "python",
     "metadata": {},
     "outputs": [
      {
       "output_type": "stream",
       "stream": "stdout",
       "text": [
        "[(1, 8.0, 'Hello') (-1, 1.0, 'Master')]\n",
        "[ 8.  1.]\n"
       ]
      }
     ],
     "prompt_number": 42
    },
    {
     "cell_type": "markdown",
     "metadata": {},
     "source": [
      "When defining structured arrays, the data types must be specified. E.g. i4 - integer, 4 bytes (32 bits)\n",
      "f8 - float, 8 bytes (64 bits)\n",
      "a<n> - string of fixed length n\n",
      "\n",
      "\n"
     ]
    },
    {
     "cell_type": "code",
     "collapsed": false,
     "input": [
      "#RANDOM - just checking how arrays can be used as stacks\n",
      "#          using the append() to stack, and pop() to pop.\n",
      "\n",
      "arr[:] = [1,2,3,4,5]\n",
      "print arr\n",
      "print arr.pop()\n",
      "print arr\n",
      "print arr.pop()\n",
      "print arr\n",
      "print arr.pop()\n",
      "print arr\n",
      "print arr.pop()\n",
      "print arr"
     ],
     "language": "python",
     "metadata": {},
     "outputs": [
      {
       "output_type": "stream",
       "stream": "stdout",
       "text": [
        "[1, 2, 3, 4, 5]\n",
        "5\n",
        "[1, 2, 3, 4]\n",
        "4\n",
        "[1, 2, 3]\n",
        "3\n",
        "[1, 2]\n",
        "2\n",
        "[1]\n"
       ]
      }
     ],
     "prompt_number": 30
    }
   ],
   "metadata": {}
  }
 ]
}
{
 "metadata": {
  "name": ""
 },
 "nbformat": 3,
 "nbformat_minor": 0,
 "worksheets": [
  {
   "cells": [
    {
     "cell_type": "code",
     "collapsed": false,
     "input": [
      "%pylab inline"
     ],
     "language": "python",
     "metadata": {},
     "outputs": [
      {
       "output_type": "stream",
       "stream": "stdout",
       "text": [
        "Populating the interactive namespace from numpy and matplotlib\n"
       ]
      }
     ],
     "prompt_number": 1
    },
    {
     "cell_type": "code",
     "collapsed": false,
     "input": [
      "from astropy.io import ascii"
     ],
     "language": "python",
     "metadata": {},
     "outputs": [],
     "prompt_number": 5
    },
    {
     "cell_type": "code",
     "collapsed": false,
     "input": [
      "data = ascii.read('sources.dat')\n",
      "print data"
     ],
     "language": "python",
     "metadata": {},
     "outputs": [
      {
       "output_type": "stream",
       "stream": "stdout",
       "text": [
        "obsid redshift  X    Y      object  \n",
        "----- -------- ---- ---- -----------\n",
        " 3102     0.32 4167 4085 Q1250+568-A\n",
        "  877     0.22 4378 3892   Source 82\n"
       ]
      }
     ],
     "prompt_number": 6
    },
    {
     "cell_type": "markdown",
     "metadata": {},
     "source": [
      "Usually astropy.io.ascii will read() the file based on available table formats. But if it can't, there are __things__ you could do"
     ]
    },
    {
     "cell_type": "code",
     "collapsed": false,
     "input": [
      "lines = ['objid & oscrid &xscrid',\n",
      "         '---------------- & ----------------- &------------',\n",
      "         ' 277955213 & S000.7044P00.7513 & XS04861B6_005',\n",
      "         ' 889974380 & S002.9051P14.7003 & XS03957B7_004']\n",
      "data = ascii.read(lines,data_start=2,delimiter='&')\n"
     ],
     "language": "python",
     "metadata": {},
     "outputs": [
      {
       "output_type": "stream",
       "stream": "stdout",
       "text": [
        "<Row 1 of table\n",
        " values=(889974380, 'S002.9051P14.7003', 'XS03957B7_004')\n",
        " dtype=[('objid', '<i8'), ('oscrid', 'S17'), ('xscrid', 'S13')]>\n"
       ]
      }
     ],
     "prompt_number": 13
    },
    {
     "cell_type": "markdown",
     "metadata": {},
     "source": [
      "More efficient to mention the format of data if known..."
     ]
    },
    {
     "cell_type": "code",
     "collapsed": false,
     "input": [
      "data2 = ascii.read(lines,format='fixed_width',delimiter='&')\n",
      "print data2"
     ],
     "language": "python",
     "metadata": {},
     "outputs": [
      {
       "output_type": "stream",
       "stream": "stdout",
       "text": [
        "objid   oscrid  xscrid\n",
        "------ -------- ------\n",
        "------ --------  & ---\n",
        " 27795 213 & S0 0.7044\n",
        " 88997 380 & S0 2.9051\n"
       ]
      }
     ],
     "prompt_number": 16
    },
    {
     "cell_type": "code",
     "collapsed": false,
     "input": [
      "#WRITING TABLES USING ASTROPY\n",
      "\n",
      "from astropy.table import Table\n",
      "x = np.array([1,2,3])\n",
      "y = x**2\n",
      "data = Table([x,y],names=['x','y'])\n",
      "ascii.write(data,'values.dat')\n"
     ],
     "language": "python",
     "metadata": {},
     "outputs": [],
     "prompt_number": 32
    },
    {
     "cell_type": "markdown",
     "metadata": {},
     "source": [
      "ASCII lets you write the table in an organized manner (with headings,\n",
      "formatting delimiters etc.) but also lets you read in the data as a __structured array__"
     ]
    },
    {
     "cell_type": "code",
     "collapsed": false,
     "input": [
      "lala = ascii.read('values.dat')   #Basically an object\n",
      "lalala = np.loadtxt('values.dat',skiprows=1)   #Except for the\n",
      "#headings, can read the rest of the data\n",
      "x = lala['x']  "
     ],
     "language": "python",
     "metadata": {},
     "outputs": [
      {
       "metadata": {},
       "output_type": "pyout",
       "prompt_number": 57,
       "text": [
        "<Column name='x' unit=None format=None description=None>\n",
        "array([1, 2, 3])"
       ]
      }
     ],
     "prompt_number": 57
    },
    {
     "cell_type": "code",
     "collapsed": false,
     "input": [
      "#You can create latex tables out of data\n",
      "import sys\n",
      "ascii.write(data,sys.stdout,format='latex')"
     ],
     "language": "python",
     "metadata": {},
     "outputs": [
      {
       "output_type": "stream",
       "stream": "stdout",
       "text": [
        "\\begin{table}\n",
        "\\begin{tabular}{cc}\n",
        "x & y \\\\\n",
        "1 & 1 \\\\\n",
        "2 & 4 \\\\\n",
        "3 & 9 \\\\\n",
        "\\end{tabular}\n",
        "\\end{table}\n"
       ]
      }
     ],
     "prompt_number": 58
    },
    {
     "cell_type": "code",
     "collapsed": false,
     "input": [],
     "language": "python",
     "metadata": {},
     "outputs": []
    }
   ],
   "metadata": {}
  }
 ]
}